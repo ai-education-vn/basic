{
 "cells": [
  {
   "cell_type": "markdown",
   "id": "ac0bd42e-b5d1-4efc-9698-a79571ec51d3",
   "metadata": {},
   "source": [
    "### AI là gì\n",
    "AI- Artificial Intelligence (Trí tuệ nhân tạo) là một lĩnh vực khoa học máy tính tập trung vào việc tạo ra các tác nhân thông minh có khả năng thực hiện các nhiệm vụ thường đòi hỏi mức độ thông minh của con người. \n",
    "\n",
    "AI là một ngành khoa học liên ngành với nhiều cách tiếp cận, nó dựa trên quy tắc và hoạt động theo một tập hợp hoặc các điều kiện được xác định trước hoặc có thể sử dụng các thuật toán học máy để thích ứng với môi trường của nó. AI sẽ học hỏi từ dữ liệu khiến chúng trở nên linh hoạt hơn và có khả năng xử lý tình huống không lường trước được."
   ]
  },
  {
   "cell_type": "markdown",
   "id": "59ad0ebf-7c4e-4b0d-933c-faf6e2e92994",
   "metadata": {},
   "source": [
    "### Những quan điểm sai lầm khi nhắc về AI\n",
    "- __AI hoạt động như một ROBOT__. AI không chỉ giới hạn ở ROBOT mà đó là một lĩnh vực rộng hơn bao gồm nhiều công nghệ khác nhau như thuật toán tìm kiếm và xử lý ngôn ngữ tự nhiên\n",
    "- __AI có thể hiểu nội dung như con người__. AI không thể hiểu văn bản hoặc lời nói theo nghĩa của con người, nó xử lý dữ liệu dựa trên các mẫu nhưng thiếu khả năng hiểu\n",
    "- __AI là không thiên vị__. Trái ngược với suy nghĩ, AI có thể kế thừa những thành kiến từ dữ liệu đào tạo hoặc các thiết kế của nó, nghĩa là vốn dĩ nó không hề thiên vị. Có một khía cạnh liên quan đến điều đó được gọi là đạo đức AI\n",
    "- __AI có thể thay thế toàn bộ công việc của con người__. AI có thể tự động hóa các nhiệm vụ cụ thể nhưng nó không thể thay thế các công việc đòi hỏi trí tuệ cảm xúc, tính sáng tạo và các kỹ năng đặc thù khác của con người\n"
   ]
  },
  {
   "cell_type": "markdown",
   "id": "2a171a81-b140-4e62-92a0-5ba4efbcac47",
   "metadata": {},
   "source": [
    "### Những thuật ngữ trong AI"
   ]
  }
 ],
 "metadata": {
  "kernelspec": {
   "display_name": "Python 3 (ipykernel)",
   "language": "python",
   "name": "python3"
  },
  "language_info": {
   "codemirror_mode": {
    "name": "ipython",
    "version": 3
   },
   "file_extension": ".py",
   "mimetype": "text/x-python",
   "name": "python",
   "nbconvert_exporter": "python",
   "pygments_lexer": "ipython3",
   "version": "3.12.4"
  }
 },
 "nbformat": 4,
 "nbformat_minor": 5
}
