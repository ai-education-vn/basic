{
 "cells": [
  {
   "cell_type": "code",
   "execution_count": null,
   "id": "03a4b0c6-008e-4a1d-81a0-9dcc19d6ac1f",
   "metadata": {},
   "outputs": [],
   "source": []
  },
  {
   "cell_type": "raw",
   "id": "730b9bcc-c156-48e7-a245-5bc3c609738f",
   "metadata": {},
   "source": [
    "Xin chào các bạn"
   ]
  },
  {
   "cell_type": "code",
   "execution_count": 1,
   "id": "e1d58ffb-e32d-4066-8f93-870c1dd3f1eb",
   "metadata": {},
   "outputs": [
    {
     "name": "stdout",
     "output_type": "stream",
     "text": [
      "2\n"
     ]
    }
   ],
   "source": [
    "print(2)"
   ]
  },
  {
   "cell_type": "code",
   "execution_count": null,
   "id": "9276f77c-953d-4465-8ca5-5ec06a03d1b4",
   "metadata": {},
   "outputs": [],
   "source": []
  }
 ],
 "metadata": {
  "kernelspec": {
   "display_name": "Python 3 (ipykernel)",
   "language": "python",
   "name": "python3"
  },
  "language_info": {
   "codemirror_mode": {
    "name": "ipython",
    "version": 3
   },
   "file_extension": ".py",
   "mimetype": "text/x-python",
   "name": "python",
   "nbconvert_exporter": "python",
   "pygments_lexer": "ipython3",
   "version": "3.12.4"
  }
 },
 "nbformat": 4,
 "nbformat_minor": 5
}
