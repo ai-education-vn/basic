{
 "cells": [
  {
   "cell_type": "markdown",
   "id": "66780fb3-fad1-4d3f-a140-01159fe299f8",
   "metadata": {},
   "source": [
    "Nguồn (https://www.datacamp.com/blog/the-difference-between-ai-and-machine-learning)\n",
    "## Khái niệm\n",
    "### AI là gì\n",
    "AI là một lĩnh vực khoa học máy tính rộng lớn tập trung vào việc tạo ra các hệ thống thông minh có khả năng thực hiện các nhiệm vụ thường đòi hỏi trí thông minh của con người.\n",
    "AI về cơ bản là một bộ công cụ khổng lồ giúp máy tính hoạt động thông minh và theo kiểu tự động. Điều này bao gồm trợ lý giọng nói, hệ thống khuyến nghị và xe tự lái.\n",
    "\n",
    "### ML là gì\n",
    "ML là một nhánh chuyên biệt czủa lĩnh vực AI. Mục đích của nó là thiết kees và tinh chỉnh các thuật toán trở nên chính xác và hiệu quả hơn khi chúng tương tác với dữ liệu theo thời gian. Hiểu một cách đơn giản hơn, học máy trang bị cho máy tính khả năng phân tích dữ liệu, rút ra thông tin chi tiết và đưa ra quyết định hoặc dự báo sáng suốt, tất cả đều không yêu cầu lập trình rõ ràng cho các tác vụ."
   ]
  },
  {
   "cell_type": "markdown",
   "id": "02e2279a-d7ae-4226-bb73-7dc01309e512",
   "metadata": {},
   "source": [
    "## Điểm tương đồng\n",
    "- __Dựa trên dữ liệu__ : Cả AI và ML đều phụ thuộc rất nhiều vào dữ liệu. AI sử dụng dữ liệu để đưa ra quyết định sáng suốt, trong khi ML sử dụng để học hỏi và cải thiện.\n",
    "- __Tự động hóa__ : Cả hai lĩnh vực đều nhằm mục đích tự động hóa các nhiệm vụ đòi hỏi sự can thiệp của con người, có thể là ra quyết định trong AI hoặc phân tích dữ liệu trong ML.\n",
    "- __Cải thiện theo thời gian__ : Các hệ thống AI có thể trở nên hiệu quả hơn khi chúng thu thập được nhiều dữ liệu hơn và các thuật toán ML sẽ cải thiện hiệu suất của chúng khi tiếp xúc với nhiều dữ liệu hơn để đào tạo.\n",
    "- __Độ phức tạp tính toán__ : Cả AI và ML đều yêu cầu sức mạnh tính toán, thường yêu cầu phần cứng chuyên dụng như GPU cho các tác vụ phức tạp.\n",
    "- __Các lĩnh vực liên quan__ : Cả AI và ML đều được rút ra từ nhiều ngành khác nhau, bao gồm khoa học máy tính, thống kê, toán học và kỹ thuật."
   ]
  },
  {
   "cell_type": "markdown",
   "id": "c99465ad-3b1c-439c-9f89-760215d33c0d",
   "metadata": {},
   "source": [
    "## Điểm khác biệt\n",
    "- __Phạm vi__ : AI có phạm vi rộng hơn, bao gồm mọi thứ cho phép máy tính bắt chước trí thông minh của con người, bao gồm robot, giải quyết vấn đề và nhận dạng ngôn ngữ. Mặt khác, ML đặc biệt tập trung vào việc phát triển các thuật toán có thể học hỏi từ dữ liệu.\n",
    "- __Mục tiêu__ : Mục tiêu của AI là tạo ra các hệ thống có thể thực hiện các nhiệm vụ thường đòi hỏi trí thông minh của con người. ML nhằm mục đích cho phép máy móc học hỏi từ dữ liệu để có thể dự đoán hoặc quyết định chính xác.\n",
    "- __Học tập__ : AI không nhất thiết phải học từ dữ liệu. Ví dụ: hệ thống chuyên gia dựa trên quy tắc đưa ra quyết định dựa trên một bộ quy tắc rõ ràng. ML đặc biệt liên quan đến việc học từ dữ liệu, khi có nhiều dữ liệu hơn, hệ thống ML có thể học hỏi và cải thiện.\n",
    "- __Sự phụ thuộc__ : Học máy là một tập hợp con của AI, nghĩa là tất cả học máy đều là AI, nhưng không phải tất cả AI đều là ML\n",
    "- __Các loại hình học tập__ : ML có thể được `giám sát`, `không giám sát` hoặc được `tăng cường`. AI có thể dựa trên quy tắc và hoàn toàn không học từ các dữ liệu hoặc có thể sử dụng nhiều cách học khác nhau, bao gồm nhưng không giới hạn ở các kỹ thuật học máy.\n",
    "- __Sự can thiệp của con người__ : Trong AI, vai trò can thiệp của con người có thể khác nhau, một số hệ thống yêu cầu điều chỉnh thủ công và thiết lập quy tắc, trong khi những hệ thống khác thì tự chủ hơn. ML đặc biết nhằm mục đích giảm thiểu sự can thiệp của con người càng nhiều càng tốt, tự động quá quy trình học tập từ dữ liệu.\n"
   ]
  },
  {
   "cell_type": "markdown",
   "id": "9c9d0ab7-52a6-42ac-ade1-27b2f3fb6297",
   "metadata": {
    "jp-MarkdownHeadingCollapsed": true
   },
   "source": [
    "## Khi nào thì sử dụng AI và ML\n",
    "### AI\n",
    "- __Ra quyết định phức tạp__ : Nếu dự án của bạn liên quan đến việc đưa ra quyết định phức dựa vào nhiều biến số, thì AI, đặc biệt là các hệ thống dựa trên quy tắc, có thể mang lại hiệu quả cao.\n",
    "- __Hiểu ngôn ngữ tự nhiên__ : Đối với các ứng dụng như chatbot hoặc hệ thống kích hoạt bằng giọng nói đó việc hiểu ngôn ngữ của con người là rất quan trọng, các công nghệ AI như NLP (Natural Language Processing) sẽ phù hợp hơn.\n",
    "- __Robot__ : Nếu dự án liên quan đến các nhiệm vụ vật lý như di chuyển vật thể hoặc điều hướng trong không gian thì robot, một tập hợp con của AI, là lựa chọn phù hợp.\n",
    "- __Phạm vi rộng__ : Nếu ứng dụng yêu cầu một loạt các hành vi thông minh, từ giải quyết vấn đề và lập kế hoạch đến nhận thức và trí thông minh xã hội, thì nên sử dụng cách tiếp cận AI rộng hơn.\n",
    "- __Những quy tắc đã được thiết lập và không cần học__ : Nếu hệ thống hoạt động dựa trên một bộ quy tắc cố định và không yêu cầu học từ dữ liệu thì hệ thống AI dựa trên quy tắc sẽ phù hợp.\n",
    "\n",
    "### ML\n",
    "- __Dự đoán dựa trên dữ liệu__ : Nếu mục tiêu chính là đưa ra dự đoán dựa trên dữ liệu thì ML là lựa chọn lý tưởng.\n",
    "- __Nhận dạng mẫu__ : Đối với các nhiệm vụ như phát hiện gian lận, hệ thống đề xuất hoặc phân khúc khách hàng, thuật toán ML vượt trội trong việc xác định các mẫu trong dữ liệu.\n",
    "- __Cải tiến liên tục__ : Nếu ứng dụng được hưởng lợi từ việc cải thiện hiệu suất theo thời gian thông qua việc tiếp xúc với nhiều dữ liệu hơn thì ML chính là lựa chọn phù hợp.\n",
    "- __Phát hiện bất thường__ : Thuật toán ML có hiệu quả cao trong việc xác định các ngoại lệ hoặc điểm bất thường trong tập dữ liệu, hữu ích trong các lĩnh vực như an ninh mạng và kiểm soát chất lượng.\n",
    "- __Tạo ngôn ngữ tự nhiên__ : Để tạo văn bản dựa trên dữ liệu, chẳng hạn như hệ thống báo cáo tự động, các kỹ thuật ML như thuật toán tạo văn bản có thể mang lại hiệu quả cao."
   ]
  },
  {
   "cell_type": "code",
   "execution_count": null,
   "id": "7cdd3fdb-4608-400e-aec7-a7afe9198a60",
   "metadata": {},
   "outputs": [],
   "source": []
  }
 ],
 "metadata": {
  "kernelspec": {
   "display_name": "Python 3 (ipykernel)",
   "language": "python",
   "name": "python3"
  },
  "language_info": {
   "codemirror_mode": {
    "name": "ipython",
    "version": 3
   },
   "file_extension": ".py",
   "mimetype": "text/x-python",
   "name": "python",
   "nbconvert_exporter": "python",
   "pygments_lexer": "ipython3",
   "version": "3.12.4"
  }
 },
 "nbformat": 4,
 "nbformat_minor": 5
}
