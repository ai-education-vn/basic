{
 "cells": [
  {
   "cell_type": "markdown",
   "id": "ac0bd42e-b5d1-4efc-9698-a79571ec51d3",
   "metadata": {},
   "source": [
    "Nguồn (https://www.datacamp.com/blog/what-is-ai-quick-start-guide-for-beginners)\n",
    "### AI là gì\n",
    "__AI - Artificial Intelligence (Trí tuệ nhân tạo)__ là một lĩnh vực khoa học máy tính tập trung vào việc tạo ra các tác nhân thông minh có khả năng thực hiện các nhiệm vụ thường đòi hỏi mức độ thông minh của con người. \n",
    "\n",
    "AI là một ngành khoa học liên ngành với nhiều cách tiếp cận, nó dựa trên quy tắc và hoạt động theo một tập hợp hoặc các điều kiện được xác định trước hoặc có thể sử dụng các thuật toán học máy để thích ứng với môi trường của nó. AI sẽ học hỏi từ dữ liệu khiến chúng trở nên linh hoạt hơn và có khả năng xử lý tình huống không lường trước được.\n",
    "\n",
    "![Overall](img/ai-overall.png)"
   ]
  },
  {
   "cell_type": "markdown",
   "id": "59ad0ebf-7c4e-4b0d-933c-faf6e2e92994",
   "metadata": {
    "jp-MarkdownHeadingCollapsed": true
   },
   "source": [
    "### Những quan điểm sai lầm khi nhắc về AI\n",
    "- __AI hoạt động như một ROBOT__. AI không chỉ giới hạn ở ROBOT mà đó là một lĩnh vực rộng hơn bao gồm nhiều công nghệ khác nhau như thuật toán tìm kiếm và xử lý ngôn ngữ tự nhiên\n",
    "- __AI có thể hiểu nội dung như con người__. AI không thể hiểu văn bản hoặc lời nói theo nghĩa của con người, nó xử lý dữ liệu dựa trên các mẫu nhưng thiếu khả năng hiểu\n",
    "- __AI là không thiên vị__. Trái ngược với suy nghĩ, AI có thể kế thừa những thành kiến từ dữ liệu đào tạo hoặc các thiết kế của nó, nghĩa là vốn dĩ nó không hề thiên vị. Có một khía cạnh liên quan đến điều đó được gọi là đạo đức AI\n",
    "- __AI có thể thay thế toàn bộ công việc của con người__. AI có thể tự động hóa các nhiệm vụ cụ thể nhưng nó không thể thay thế các công việc đòi hỏi trí tuệ cảm xúc, tính sáng tạo và các kỹ năng đặc thù khác của con người\n"
   ]
  },
  {
   "cell_type": "markdown",
   "id": "2a171a81-b140-4e62-92a0-5ba4efbcac47",
   "metadata": {},
   "source": [
    "### Những thuật ngữ trong AI\n",
    "\n",
    "- __Thuật toán__ : là một tập hợp các quy tắc được xây dựng để thực hiện một tác vụ cụ thể. Thuật toán là nền tảng của tất cả của các hệ thống AI.\n",
    "- __Trí tuệ tổng hợp nhân tạo (AGI - Artificial General Intelligence)__ : Một dạng AI hiện mang tính lý thuyết có khả năng hiểu, học hỏi và áp dụng kiến thức trên các lĩnh vực khác nhau, suy luận thông qua các vấn đề, có ý thức và thậm chí có hiểu biết về mặt cảm xúc. Điều này trái ngược với NarrowAI, được thiết kế và đào tạo cho một nhiệm vụ cụ thể.\n",
    "- __Deep Learning__ : là một loại học máy chuyên biệt bắt chước cách hoạt động của bộ não chúng ta, cho phép học hỏi từ kinh nghiệm và hiểu theo hệ thống phân cấp các khái niệm. Hiểu một cách đơn giản, deep learning giống như một bộ não ảo giúp máy tính học hỏi từ liệu để có thể tự đưa ra quyết định.\n",
    "- __Học máy__ : Một cách giúp máy tính có khả năng học hỏi từ dữ liệu và đưa ra quyết định mà không cần lập trình rõ ràng. Hãy coi nó như việc dạy máy tính học hỏi kinh nghiệm, giống như cách con người làm. Về bản chất, học máy là phương pháp mà AI có được phần \"trí thông minh\"\n",
    "- __Xử lý ngôn ngữ tự nhiên (NLP)__ : Một lĩnh vực trong AI tập trung vào việc tương tác giữa máy tính và con người qua ngôn ngữ tự nhiên. Mục tiêu cuối cùng của NLP là cho phép máy tính hiểu, giải thích và tạo ra ngôn ngữ của con người theo cách vừa có ý nghĩa, vừa hữa ích.\n",
    "- __Mạng lưới thần kinh__ : Một mô hình điện toán lấy cảm hứng từ cấu trúc tế bào thần kinh trong não người. Mạng lưới thần kinh được sử dụng trong các ứng dụng khác nhau liên quan đến nhận dạng mẫu, chẳng hạn như nhận dạng hình ảnh và giọng nói"
   ]
  },
  {
   "cell_type": "markdown",
   "id": "0690d190-28f0-4aa1-b7f2-dcaf553fffb4",
   "metadata": {
    "jp-MarkdownHeadingCollapsed": true
   },
   "source": [
    "### Loại AI\n",
    "- __Narrow AI__ : Đây là một loại AI yếu. Nó được thiết kế để huấn luyện, để thực thi một nhiệm vụ cụ thể. Nó hoạt động trong một số điều kiện hạn chế được xác định trước và không sở hữu nhiều khả năng mà con người có. Hầu hết các hệ thống AI hiện tại, bao gồm máy phản ứng và máy có bộ nhớ hạn chế đều thuộc loại này.\n",
    "- __AGI__ : Loại AI này sẽ có khả năng hiểu học hỏi và áp dụng kiến thức trên các lĩnh vực khác nhau. Nó sẽ có khả năng tự nhận thức, lý luận và hiểu biết về mặt cảm xúc.\n",
    "- __ASI (Artificial Super Intelligence)__ : Đây là dạng AI tiên tiến vượt qua trí thông minh của con người ở hầu hết các khía cạnh, từ khả năng sáng tạo và trí thông minh xã hội đến khả năng giải quyết vấn đề. Siêu AI là một khái niệm tồn tại nhiều trong lĩnh vực khoa học viễn tưởng và suy đoán tương lai hơn là trong thực tế hiện tại:\n",
    "    - **Máy phản ứng** : Đây là những dạng AI cơ bản nhất, được thiết kế cho các nhiệm vụ cụ thể. Ví dụ: Deep Blue của IBM, một siêu máy tính chơi cờ vua. Máy phản ứng không thể lưu trữ ký ức hoặc sử dụng kinh nghiệm trong quá khứ để đưa ra các quyết định hiện tại.\n",
    "    - **Bộ nhớ hạn chế**: AI có bộ nhớ hạn chế có thể lưu trữ dữ liệu trong quá khứ và sử dụng dữ liệu đó để đưa ra dự đoán hoặc quyết định tốt hơn. Loại AI này thường được tìm thấy trong các hệ thống được Netflix hoặc Amazon sử dụng.\n",
    "    - **Lý thuyết tâm trí**: Đây là một khái niệm lý thuyết đề cập đến các hệ thống AI có khả năng tìm hiểu được cảm xúc, niềm tin và suy nghĩ của con người.\n",
    "    - **Tự nhận thức**: Đỉnh cao của sự phát triên AI sẽ là những cố máy tự nhận thức, hiểu được sự tồn tại của chúng và có thể đưa ra quyết định dựa trên lợi ích cá nhận. Đây vẫn là một chủ để đang được nghiên cứu và tranh luận về mặt đạo đức.\n",
    "       \n"
   ]
  },
  {
   "cell_type": "markdown",
   "id": "abc1c51a-932a-4e14-82c6-85d5957385af",
   "metadata": {},
   "source": [
    "### AI hoạt động như thế nào\n",
    "- Step1: Thu thập dữ liệu\n",
    "- Step2: Chuẩn bị dữ liệu\n",
    "- Step3: Lựa chọn thuật toán\n",
    "- Step4: Training model\n",
    "- Step5: Testing model\n",
    "- Step6: Deployment\n",
    "- Step7: Ongoing learning \n"
   ]
  }
 ],
 "metadata": {
  "kernelspec": {
   "display_name": "Python 3 (ipykernel)",
   "language": "python",
   "name": "python3"
  },
  "language_info": {
   "codemirror_mode": {
    "name": "ipython",
    "version": 3
   },
   "file_extension": ".py",
   "mimetype": "text/x-python",
   "name": "python",
   "nbconvert_exporter": "python",
   "pygments_lexer": "ipython3",
   "version": "3.12.4"
  }
 },
 "nbformat": 4,
 "nbformat_minor": 5
}
