{
 "cells": [
  {
   "cell_type": "markdown",
   "id": "e63aaff0-b6c8-4044-9849-53c021327e20",
   "metadata": {},
   "source": [
    "Nguồn (https://www.datacamp.com/blog/what-is-machine-learning)\n",
    "\n",
    "### ML là gì\n",
    "ML là một tập hợp con của AI tập trung vào phát triển các thuật toán máy tính tự động cải thiện thông qua trải nghiệm và sử dụng dữ liệu. Nói một cách đơn giản hơn, học máy cho phép máy tính học từ dữ liệu và đưa ra quyết định hoặc dự đoán mà không cần được lập trình rõ ràng để làm việc đó.\n",
    "\n",
    "Về cốt lõi, học máy là việc tạo và triển khai các thuật toán nhằm tạo điều kiện thuận lợi cho những quyết định và dự đoán này. Các thuật toán này được thiết kế để cải thiện hiệu suất theo thời gian, trở nên chính xác và hiệu quả hơn khi chúng xử lý nhiều dữ liệu hơn.\n",
    "\n",
    "Trong lập trình truyền thống, máy tính tuân theo một tập hợp các hướng dẫn được xác định trước để thực hiện một tác vụ. Tuy nhiên, trong học máy, máy tính được cung cấp một tập hợp các ví dụ (dữ liệu) và một nhiệm vụ để thực hiện, nhưng máy tính có quyền tìm ra cách hoàn thành nhiệm vụ dựa trên các ví dụ được đưa ra.\n",
    "\n",
    "Ví dụ: nếu chúng tôi muốn máy tính nhận dạng hình ảnh của mèo, chúng tôi không cung cấp cho máy tính hướng dẫn cụ thể về hình dáng của một con mèo. Thay vào đó, chúng tôi cung cấp cho nó hàng nghìn hình ảnh về mèo và để thuật toán máy học tìm ra các mẫu và đặc điểm chung để xác định một con mèo. Theo thời gian, khi thuật toán xử lý nhiều hình ảnh hơn, nó sẽ nhận dạng mèo tốt hơn, ngay cả khi được hiển thị với những hình ảnh mà nó chưa từng thấy trước đây.\n",
    "\n",
    "Khả năng học hỏi từ dữ liệu và cải thiện theo thời gian làm cho máy học trở nên vô cùng mạnh mẽ và linh hoạt. Đó là động lực thúc đẩy nhiều tiến bộ công nghệ mà chúng ta thấy ngày nay, từ trợ lý giọng nói và hệ thống đề xuất cho đến xe tự lái và phân tích dự đoán.\n",
    "\n",
    "#### ML vs AI vs DL\n",
    "\n",
    "__AI__ đề cập đến việc phát triển các chương trình hoạt động thông minh và bắt chước trí thông minh của con người thông qua một bộ thuật toán. Lĩnh vực này tập trung vào ba kỹ năng: học tập, lý luận và tự sửa lỗi để đạt được hiệu quả tối đa. AI có thể đề cập đến các chương trình dựa trên máy học hoặc thậm chí các chương trình máy tính được lập trình rõ ràng.\n",
    "\n",
    "__Học máy__ là một tập hợp con của AI, sử dụng các thuật toán học từ dữ liệu để đưa ra dự đoán. Những dự đoán này có thể được tạo ra thông qua học có giám sát, trong đó các thuật toán học các mẫu từ dữ liệu hiện có hoặc học không giám sát, trong đó chúng khám phá các mẫu chung trong dữ liệu. Mô hình ML có thể dự đoán các giá trị số dựa trên dữ liệu lịch sử, phân loại các sự kiện là đúng hay sai và phân cụm các điểm dữ liệu dựa trên những điểm chung.\n",
    "\n",
    "__Học sâu__ là một lĩnh vực con của học máy xử lý các thuật toán về cơ bản dựa trên mạng thần kinh nhân tạo nhiều lớp (ANN) được lấy cảm hứng từ cấu trúc của bộ não con người."
   ]
  },
  {
   "cell_type": "markdown",
   "id": "e2f9e42d-7e41-4b74-9dea-603e5b6e4de1",
   "metadata": {
    "jp-MarkdownHeadingCollapsed": true
   },
   "source": [
    "### Tầm quan trọng của ML\n",
    "\n",
    "Trong thế kỷ 21, dữ liệu là loại dầu mới và máy học là động cơ cung cấp năng lượng cho thế giới dựa trên dữ liệu này. Nó là một công nghệ quan trọng trong thời đại kỹ thuật số ngày nay và tầm quan trọng của nó không thể bị phóng đại. Điều này được phản ánh qua mức tăng trưởng dự kiến ​​của ngành, với Cục Thống kê Lao động Hoa Kỳ dự đoán mức tăng trưởng việc làm là 21% trong khoảng thời gian từ năm 2021 đến năm 2031.\n",
    "\n",
    "Dưới đây là một số lý do tại sao nó rất cần thiết trong thế giới hiện đại:\n",
    "- __Xử lý dữ liệu__: Một trong những lý do chính khiến học máy trở nên quan trọng là khả năng xử lý và hiểu được khối lượng dữ liệu lớn. Với sự bùng nổ của dữ liệu số từ phương tiện truyền thông xã hội, cảm biến và các nguồn khác, các phương pháp phân tích dữ liệu truyền thống đã trở nên không phù hợp. Các thuật toán học máy có thể xử lý lượng dữ liệu khổng lồ này, khám phá các mẫu ẩn và cung cấp những hiểu biết có giá trị giúp thúc đẩy việc ra quyết định.\n",
    "- __Thúc đẩy sự đổi mới__: Học máy đang thúc đẩy sự đổi mới và hiệu quả trên nhiều lĩnh vực khác nhau như sức khỏe, tài chính, bán lẻ,...\n",
    "- __Kích hoạt tự động hóa__: Học máy là một yếu tố then chốt của tự động hóa. Bằng cách học hỏi từ dữ liệu và cải thiện theo thời gian, các thuật toán học máy có thể thực hiện các tác vụ thủ công trước đây, giúp con người tập trung vào các tác vụ phức tạp và sáng tạo hơn. Điều này không chỉ làm tăng hiệu quả mà còn mở ra những khả năng mới cho sự đổi mới."
   ]
  },
  {
   "cell_type": "markdown",
   "id": "08a878f0-5289-4d10-84e6-c61a2fa65909",
   "metadata": {},
   "source": [
    "### Học máy hoạt động như thế nào\n",
    "\n",
    "- __Bước 1: Thu thập dữ liệu__ Dữ liệu là huyết mạch của máy học - chất lượng và số lượng dữ liệu có thể ảnh hưởng trực tiếp đến hiệu suất mô hình của bạn. Dữ liệu có thể được thu thập từ nhiều nguồn khác nhau như cơ sở dữ liệu, tệp văn bản, hình ảnh, tệp âm thanh hoặc thậm chí được lấy từ web. Sau khi được thu thập, dữ liệu cần được chuẩn bị cho máy học. Quá trình này bao gồm việc tổ chức dữ liệu theo định dạng phù hợp, chẳng hạn như tệp CSV hoặc cơ sở dữ liệu và đảm bảo rằng dữ liệu có liên quan đến vấn đề bạn đang cố gắng giải quyết.\n",
    "\n",
    "- __Bước 2: Tiền xử lý dữ liệu__ là một bước quan trọng trong quá trình học máy. Nó liên quan đến việc làm sạch dữ liệu (loại bỏ trùng lặp, sửa lỗi), xử lý dữ liệu bị thiếu (bằng cách xóa hoặc điền vào) và chuẩn hóa dữ liệu (điều chỉnh dữ liệu sang định dạng chuẩn). \n",
    "Quá trình tiền xử lý cải thiện chất lượng dữ liệu của bạn và đảm bảo rằng mô hình học máy của bạn có thể diễn giải dữ liệu đó một cách chính xác. Bước này có thể cải thiện đáng kể độ chính xác của mô hình.\n",
    "\n",
    "- __Bước 3: Chọn model phù hợp__ Có nhiều loại mô hình để lựa chọn, bao gồm hồi quy tuyến tính (linear regression), cây quyết định (decision trees) và mạng lưới thần kinh (neural networks). Việc lựa chọn mô hình tùy thuộc vào bản chất của dữ liệu và vấn đề bạn đang cố gắng giải quyết. Các yếu tố cần xem xét khi chọn mô hình bao gồm kích thước và loại dữ liệu của bạn, độ phức tạp của vấn đề và tài nguyên tính toán có sẵn.\n",
    "\n",
    "- __Bước 4: Training the model__ Việc đào tạo bao gồm việc đưa dữ liệu vào mô hình và cho phép nó điều chỉnh các tham số bên trong để dự đoán kết quả đầu ra tốt hơn. Trong quá trình đào tạo, điều quan trọng là tránh trang bị quá mức (khi mô hình hoạt động tốt trên dữ liệu huấn luyện nhưng kém trên dữ liệu mới) và trang bị thiếu (khi mô hình hoạt động kém trên cả dữ liệu huấn luyện và dữ liệu mới)\n",
    "\n",
    "- __Bước 5: Đánh giá model__ điều quan trọng là phải đánh giá hiệu suất của nó trước khi triển khai nó. Điều này liên quan đến việc thử nghiệm mô hình trên dữ liệu mới mà nó chưa thấy trong quá trình đào tạo. Các số liệu phổ biến để đánh giá hiệu suất của mô hình bao gồm độ chính xác (đối với các vấn đề phân loại), độ chính xác và thu hồi (đối với các vấn đề phân loại nhị phân) và sai số bình phương trung bình (đối với các vấn đề hồi quy).\n",
    "\n",
    "- __Bước 6: Điều chỉnh và tối ưu hóa siêu tham số__ Sau khi đánh giá mô hình, bạn có thể cần điều chỉnh các siêu tham số của nó để cải thiện hiệu suất của nó. Quá trình này được gọi là điều chỉnh tham số hoặc tối ưu hóa siêu tham số.\n",
    "\n",
    "Các kỹ thuật điều chỉnh siêu tham số bao gồm tìm kiếm dạng lưới (trong đó bạn thử các kết hợp tham số khác nhau) và xác thực chéo (trong đó bạn chia dữ liệu của mình thành các tập hợp con và huấn luyện mô hình của mình trên từng tập hợp con để đảm bảo nó hoạt động tốt trên các dữ liệu khác nhau).\n",
    "\n",
    "- __Bước 7: Dự đoán và triển khai__ Sau khi mô hình được đào tạo và tối ưu hóa, nó sẵn sàng đưa ra dự đoán về dữ liệu mới. Quá trình này bao gồm việc cung cấp dữ liệu mới vào mô hình và sử dụng kết quả đầu ra của mô hình để đưa ra quyết định hoặc phân tích sâu hơn."
   ]
  },
  {
   "cell_type": "markdown",
   "id": "a645894a-236a-46bc-b688-99d3cf478c37",
   "metadata": {},
   "source": [
    "### Loại học máy\n",
    "\n",
    "- __Học tập có giám sát__ là loại máy học phổ biến nhất. Theo cách tiếp cận này, mô hình được huấn luyện trên tập dữ liệu được dán nhãn. Nói cách khác, dữ liệu được kèm theo nhãn mà mô hình đang cố gắng dự đoán. Đây có thể là bất kỳ thứ gì từ nhãn danh mục đến số có giá trị thực. Mô hình học cách ánh xạ giữa đầu vào (tính năng) và đầu ra (nhãn) trong quá trình đào tạo. Sau khi được đào tạo, mô hình có thể dự đoán đầu ra cho dữ liệu mới, chưa được nhìn thấy. Các ví dụ phổ biến về thuật toán học có giám sát bao gồm hồi quy tuyến tính cho các bài toán hồi quy và hồi quy logistic, cây quyết định và máy vectơ hỗ trợ cho các bài toán phân loại. Về mặt thực tế, đây có thể giống như một quy trình nhận dạng hình ảnh, trong đó một tập dữ liệu hình ảnh trong đó mỗi hình ảnh được gắn nhãn là 'mèo', 'chó', v.v., một mô hình được giám sát có thể nhận dạng và phân loại hình ảnh mới một cách chính xác.\n",
    "\n",
    "- __Học tập không giám sát__ liên quan đến việc đào tạo mô hình trên tập dữ liệu chưa được gắn nhãn. Mô hình còn lại để tự tìm các mẫu và mối quan hệ trong dữ liệu. Kiểu học này thường được sử dụng để phân cụm và giảm kích thước. Phân cụm liên quan đến việc nhóm các điểm dữ liệu tương tự lại với nhau, trong khi giảm kích thước liên quan đến việc giảm số lượng biến ngẫu nhiên đang được xem xét bằng cách thu được một tập hợp các biến chính.\n",
    "\n",
    "- __Học tăng cường__ là một loại học máy trong đó tác nhân học cách đưa ra quyết định bằng cách tương tác với môi trường của nó. Tác nhân được khen thưởng hoặc bị phạt (bằng điểm) cho các hành động mà nó thực hiện và mục tiêu của nó là tối đa hóa tổng phần thưởng. Không giống như học có giám sát và không giám sát, học tăng cường đặc biệt phù hợp với các vấn đề trong đó dữ liệu là tuần tự và quyết định được đưa ra ở mỗi bước có thể ảnh hưởng đến kết quả trong tương lai. Các ví dụ phổ biến về học tăng cường bao gồm chơi trò chơi, sử dụng robot, quản lý tài nguyên, v.v."
   ]
  },
  {
   "cell_type": "markdown",
   "id": "e6931144-ad1c-491b-b010-78ff40364837",
   "metadata": {},
   "source": [
    "### Tác động của học máy\n",
    "\n",
    "#### Sức khỏe\n",
    "Trong chăm sóc sức khỏe, học máy được sử dụng để dự đoán sự bùng phát dịch bệnh, cá nhân hóa kế hoạch điều trị cho bệnh nhân và cải thiện độ chính xác của hình ảnh y tế. Ví dụ: DeepMind Health của Google đang hợp tác với các bác sĩ để xây dựng mô hình học máy nhằm phát hiện bệnh sớm hơn và cải thiện việc chăm sóc bệnh nhân.\n",
    "\n",
    "#### Tài chính\n",
    "Lĩnh vực tài chính cũng được hưởng lợi rất nhiều từ học máy. Nó được sử dụng để chấm điểm tín dụng, giao dịch bằng thuật toán và phát hiện gian lận. Một cuộc khảo sát gần đây cho thấy 56% giám đốc điều hành toàn cầu cho biết trí tuệ nhân tạo (AI) và học máy đã được triển khai vào các chương trình tuân thủ tội phạm tài chính.\n",
    "\n",
    "#### Vận tải\n",
    "Học máy là trung tâm của cuộc cách mạng xe tự lái. Các công ty như Tesla và Waymo sử dụng thuật toán học máy để diễn giải dữ liệu cảm biến trong thời gian thực, cho phép phương tiện của họ nhận dạng vật thể, đưa ra quyết định và điều hướng đường một cách tự động. Tương tự, Cục Quản lý Giao thông Vận tải Thụy Điển gần đây đã bắt đầu làm việc với các chuyên gia về thị giác máy tính và học máy để tối ưu hóa việc quản lý cơ sở hạ tầng đường bộ của đất nước."
   ]
  },
  {
   "cell_type": "markdown",
   "id": "8681244e-374b-4722-99a0-27b97d9cffbf",
   "metadata": {},
   "source": [
    "### Một vài ứng dụng của ML\n",
    "\n",
    "#### Hệ thống đễ xuất\n",
    "là một trong những ứng dụng dễ thấy nhất của học máy. Các công ty như Netflix và Amazon sử dụng công nghệ máy học để phân tích hành vi trước đây của bạn và đề xuất các sản phẩm hoặc phim mà bạn có thể thích\n",
    "\n",
    "#### Trợ lý giọng nói\n",
    "Các trợ lý giọng nói như Siri, Alexa và Google Assistant sử dụng công nghệ máy học để hiểu lệnh thoại của bạn và đưa ra phản hồi phù hợp. Họ liên tục học hỏi từ sự tương tác của bạn để cải thiện hiệu suất của họ.\n",
    "\n",
    "#### Phát hiện gian lận\n",
    "Các ngân hàng và công ty thẻ tín dụng sử dụng máy học để phát hiện các giao dịch gian lận. Bằng cách phân tích các mẫu hành vi bình thường và bất thường, họ có thể gắn cờ hoạt động đáng ngờ trong thời gian thực.\n",
    "\n",
    "#### Truyền thông xã hội\n",
    "Các nền tảng truyền thông xã hội sử dụng công nghệ máy học cho nhiều nhiệm vụ khác nhau, từ cá nhân hóa nguồn cấp dữ liệu của bạn đến lọc ra nội dung không phù hợp."
   ]
  }
 ],
 "metadata": {
  "kernelspec": {
   "display_name": "Python 3 (ipykernel)",
   "language": "python",
   "name": "python3"
  },
  "language_info": {
   "codemirror_mode": {
    "name": "ipython",
    "version": 3
   },
   "file_extension": ".py",
   "mimetype": "text/x-python",
   "name": "python",
   "nbconvert_exporter": "python",
   "pygments_lexer": "ipython3",
   "version": "3.12.4"
  }
 },
 "nbformat": 4,
 "nbformat_minor": 5
}
